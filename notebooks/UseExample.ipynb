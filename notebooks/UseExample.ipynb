{
 "cells": [
  {
   "cell_type": "code",
   "execution_count": 2,
   "id": "48c4c3c3",
   "metadata": {},
   "outputs": [],
   "source": [
    "%load_ext autoreload\n",
    "%autoreload 2\n",
    "%gui qt\n",
    "%matplotlib qt5\n",
    "\n",
    "import sys\n",
    "import os\n",
    "\n",
    "import numpy as np\n",
    "import matplotlib.pyplot as plt"
   ]
  },
  {
   "cell_type": "markdown",
   "id": "10b53212",
   "metadata": {},
   "source": [
    "### Load Metadata module"
   ]
  },
  {
   "cell_type": "code",
   "execution_count": 3,
   "id": "a7219743",
   "metadata": {},
   "outputs": [],
   "source": [
    "from oyLabImaging import Metadata"
   ]
  },
  {
   "cell_type": "markdown",
   "id": "6d2ca3bf",
   "metadata": {},
   "source": [
    "### Define path"
   ]
  },
  {
   "cell_type": "code",
   "execution_count": 4,
   "id": "965847e6",
   "metadata": {},
   "outputs": [
    {
     "name": "stdout",
     "output_type": "stream",
     "text": [
      "loaded MM metadata from/bigstore/TestSpin/08132021_TrackingCells_mRubyLoss/_1/Pos2/metadata.txt\n",
      "loaded MM metadata from/bigstore/TestSpin/08132021_TrackingCells_mRubyLoss/_1/Pos0/metadata.txt\n",
      "loaded MM metadata from/bigstore/TestSpin/08132021_TrackingCells_mRubyLoss/_1/Pos1/metadata.txt\n"
     ]
    }
   ],
   "source": [
    "fpath = \"/bigstore/TestSpin/08132021_TrackingCells_mRubyLoss/_1/\"\n",
    "#fpath = \"/bigstore/Microscopy Core/Jen/A549Inf_Drugs.nd2\"\n",
    "#fpath=\"/bigstore/Microscopy Core/Jen/DIC_timelapseDeathComparison_08032021.pickle\"\n",
    "#fpath ='/bigstore/TestSpin/08132021_TrackingCells_mRubyLoss/_1/metadata.pickle'\n",
    "#fpath = '/bigstore/Microscopy Core/Jen/3T3_mRubyloss_HSV_20210818/'\n",
    "#fpath = '/bigstore/Microscopy Core/Jen'\n",
    "#fpath = '/bigstore/Microscopy Core/Jen/3T3_mRubyloss_HSV_20210818/MRubyVirusDeath_08172021.nd2'\n",
    "MD = Metadata(fpath)"
   ]
  },
  {
   "cell_type": "markdown",
   "id": "85306ba0",
   "metadata": {},
   "source": [
    "### You can read images by attributes"
   ]
  },
  {
   "cell_type": "code",
   "execution_count": 5,
   "id": "b51233a1",
   "metadata": {},
   "outputs": [
    {
     "name": "stdout",
     "output_type": "stream",
     "text": [
      "opening file img_channel000_position002_time000000059_z000.tif\n",
      "Loaded Pos2 group of images.\n"
     ]
    }
   ],
   "source": [
    "stk = MD.stkread(Channel = MD.channels[0], Position=MD.posnames[0])"
   ]
  },
  {
   "cell_type": "markdown",
   "id": "cce448bb",
   "metadata": {},
   "source": [
    "### use napari to see images"
   ]
  },
  {
   "cell_type": "code",
   "execution_count": null,
   "id": "cf13f3e4",
   "metadata": {},
   "outputs": [],
   "source": [
    "import napari\n",
    "viewer = napari.Viewer()"
   ]
  },
  {
   "cell_type": "code",
   "execution_count": null,
   "id": "03f8089a",
   "metadata": {},
   "outputs": [],
   "source": [
    "viewer.add_image(stk)"
   ]
  },
  {
   "cell_type": "markdown",
   "id": "4ba7c87e",
   "metadata": {},
   "source": [
    "### If you want to segment cells, you can use a function called test_segmentation_params to see how the algorythm performs with different parameters. Any parameter value that's changed from the default should be manually added to the call for segmentation of the full data below."
   ]
  },
  {
   "cell_type": "code",
   "execution_count": 6,
   "id": "18e2de6f",
   "metadata": {},
   "outputs": [
    {
     "name": "stdout",
     "output_type": "stream",
     "text": [
      "<function segmentation.segmentation_types at 0x7f7d2c515700>\n",
      "opening file img_channel000_position000_time000000020_z000.tif\n",
      "Loaded Pos0 group of images.\n",
      "\n",
      "using _segment_nuclei_cellpose\n"
     ]
    },
    {
     "data": {
      "application/vnd.jupyter.widget-view+json": {
       "model_id": "6f755cece64d4207a7c9fd189d7e64a9",
       "version_major": 2,
       "version_minor": 0
      },
      "text/plain": [
       "HBox(children=(VBox(children=(Text(value='50', description='diameter'), Text(value='0.5', description='scale')…"
      ]
     },
     "metadata": {},
     "output_type": "display_data"
    },
    {
     "name": "stdout",
     "output_type": "stream",
     "text": [
      "calculating with new parameters\n",
      "Done!\n"
     ]
    }
   ],
   "source": [
    "from oyLabImaging.Processing.improcutils import segmentation\n",
    "print(segmentation.segmentation_types) \n",
    "img = MD.stkread(Position=MD.posnames[1],Channel=MD.channels[0], frame=20)\n",
    "segmentation.test_segmentation_params(img=img, segment_type='cellpose_nuclei', cellprob_threshold=0.0)#cellpose_nuclei"
   ]
  },
  {
   "cell_type": "markdown",
   "id": "7413a540",
   "metadata": {},
   "source": [
    "### make empty results object"
   ]
  },
  {
   "cell_type": "code",
   "execution_count": null,
   "id": "a3faf2eb",
   "metadata": {},
   "outputs": [],
   "source": [
    "from oyLabImaging.Processing import results\n",
    "R = results(MD=MD)"
   ]
  },
  {
   "cell_type": "code",
   "execution_count": null,
   "id": "0b9416b2",
   "metadata": {},
   "outputs": [],
   "source": [
    "R()"
   ]
  },
  {
   "cell_type": "code",
   "execution_count": null,
   "id": "99e94704",
   "metadata": {},
   "outputs": [],
   "source": [
    "R.setPosLbls(MD=MD,Position=MD.posnames[1],NucChannel='DeepBlue',segment_type='cellpose_nuclei', threads=6)"
   ]
  },
  {
   "cell_type": "code",
   "execution_count": null,
   "id": "8953c67a",
   "metadata": {},
   "outputs": [],
   "source": [
    "R.calculate_tracks(pos='Pos0', NucChannel='DeepBlue', search_radius=30, maxStep=50)"
   ]
  },
  {
   "cell_type": "code",
   "execution_count": null,
   "id": "c2389bce",
   "metadata": {},
   "outputs": [],
   "source": [
    "R.show_tracks()"
   ]
  },
  {
   "cell_type": "code",
   "execution_count": null,
   "id": "1b65005a",
   "metadata": {},
   "outputs": [],
   "source": [
    "t0 = R.tracks('Pos0')"
   ]
  },
  {
   "cell_type": "code",
   "execution_count": null,
   "id": "08729c29",
   "metadata": {},
   "outputs": [],
   "source": [
    "i=20\n",
    "plt.plot(t0(i).T, t0(i).mean('DeepBlue'))\n",
    "plt.show()"
   ]
  }
 ],
 "metadata": {
  "kernelspec": {
   "display_name": "oyimg",
   "language": "python",
   "name": "oyimg"
  },
  "language_info": {
   "codemirror_mode": {
    "name": "ipython",
    "version": 3
   },
   "file_extension": ".py",
   "mimetype": "text/x-python",
   "name": "python",
   "nbconvert_exporter": "python",
   "pygments_lexer": "ipython3",
   "version": "3.9.6"
  }
 },
 "nbformat": 4,
 "nbformat_minor": 5
}
