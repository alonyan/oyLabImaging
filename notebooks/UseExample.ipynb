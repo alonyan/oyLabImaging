{
 "cells": [
  {
   "cell_type": "code",
   "execution_count": null,
   "id": "fc659ca7",
   "metadata": {},
   "outputs": [],
   "source": [
    "%load_ext autoreload\n",
    "%autoreload 2\n",
    "%gui qt\n",
    "%matplotlib qt5\n",
    "\n",
    "import sys\n",
    "import os\n",
    "\n",
    "import numpy as np\n",
    "import matplotlib.pyplot as plt"
   ]
  },
  {
   "cell_type": "markdown",
   "id": "83c2c895",
   "metadata": {},
   "source": [
    "### Load Metadata module"
   ]
  },
  {
   "cell_type": "code",
   "execution_count": null,
   "id": "06e78ab8",
   "metadata": {},
   "outputs": [],
   "source": [
    "from oyLabImaging import Metadata"
   ]
  },
  {
   "cell_type": "markdown",
   "id": "43e30e93",
   "metadata": {},
   "source": [
    "### Define path"
   ]
  },
  {
   "cell_type": "code",
   "execution_count": null,
   "id": "fc806df3",
   "metadata": {},
   "outputs": [],
   "source": [
    "fpath = \"/bigstore/TestSpin/08132021_TrackingCells_mRubyLoss/_1/\"\n",
    "#fpath = \"/bigstore/Microscopy Core/Jen/A549Inf_Drugs.nd2\"\n",
    "#fpath=\"/bigstore/Microscopy Core/Jen/DIC_timelapseDeathComparison_08032021.pickle\"\n",
    "#fpath ='/bigstore/TestSpin/08132021_TrackingCells_mRubyLoss/_1/metadata.pickle'\n",
    "#fpath = '/bigstore/Microscopy Core/Jen/3T3_mRubyloss_HSV_20210818/'\n",
    "#fpath = '/bigstore/Microscopy Core/Jen'\n",
    "#fpath = '/bigstore/Microscopy Core/Jen/3T3_mRubyloss_HSV_20210818/MRubyVirusDeath_08172021.nd2'\n",
    "MD = Metadata(fpath)"
   ]
  },
  {
   "cell_type": "markdown",
   "id": "cfa84f80",
   "metadata": {},
   "source": [
    "### You can read images by attributes"
   ]
  },
  {
   "cell_type": "code",
   "execution_count": null,
   "id": "d4907884",
   "metadata": {},
   "outputs": [],
   "source": [
    "stk = MD.stkread(Channel = MD.channels[0], Position=MD.posnames[0])"
   ]
  },
  {
   "cell_type": "markdown",
   "id": "ffff71ae",
   "metadata": {},
   "source": [
    "### use napari to see images"
   ]
  },
  {
   "cell_type": "code",
   "execution_count": null,
   "id": "e5bfa0b5",
   "metadata": {},
   "outputs": [],
   "source": [
    "import napari\n",
    "viewer = napari.Viewer()"
   ]
  },
  {
   "cell_type": "code",
   "execution_count": null,
   "id": "8cad7431",
   "metadata": {},
   "outputs": [],
   "source": [
    "viewer.add_image(stk)"
   ]
  },
  {
   "cell_type": "markdown",
   "id": "79c8ec47",
   "metadata": {},
   "source": [
    "### If you want to segment cells, you can use a function called test_segmentation_params to see how the algorythm performs with different parameters. Any parameter value that's changed from the default should be manually added to the call for segmentation of the full data below."
   ]
  },
  {
   "cell_type": "code",
   "execution_count": null,
   "id": "fd46e672",
   "metadata": {},
   "outputs": [],
   "source": [
    "from oyLabImaging.Processing.improcutils import segmentation\n",
    "print(segmentation.segmentation_types)\n",
    "img = MD.stkread(Position=MD.posnames[1],Channel=MD.channels[0], frame=20)\n",
    "segmentation.test_segmentation_params(img=img, segment_type='cellpose_nuclei', cellprob_threshold=0.0)#cellpose_nuclei"
   ]
  },
  {
   "cell_type": "markdown",
   "id": "826b66a0",
   "metadata": {},
   "source": [
    "### make empty results object"
   ]
  },
  {
   "cell_type": "code",
   "execution_count": null,
   "id": "d4cf0041",
   "metadata": {},
   "outputs": [],
   "source": [
    "from oyLabImaging.Processing import results\n",
    "R = results(MD=MD)"
   ]
  },
  {
   "cell_type": "code",
   "execution_count": null,
   "id": "a549c8a9",
   "metadata": {},
   "outputs": [],
   "source": [
    "R()"
   ]
  },
  {
   "cell_type": "code",
   "execution_count": null,
   "id": "9dbab714",
   "metadata": {},
   "outputs": [],
   "source": [
    "R.setPosLbls(MD=MD,Position=MD.posnames[1],NucChannel='DeepBlue',segment_type='cellpose_nuclei', threads=6)"
   ]
  },
  {
   "cell_type": "code",
   "execution_count": null,
   "id": "f947c865",
   "metadata": {},
   "outputs": [],
   "source": [
    "R.calculate_tracks(pos='Pos0', NucChannel='DeepBlue', search_radius=30, maxStep=50)"
   ]
  },
  {
   "cell_type": "code",
   "execution_count": null,
   "id": "864d5cf3",
   "metadata": {},
   "outputs": [],
   "source": [
    "t0 = R.tracks('Pos0')"
   ]
  },
  {
   "cell_type": "code",
   "execution_count": null,
   "id": "78b8254b",
   "metadata": {},
   "outputs": [],
   "source": [
    "i=20\n",
    "plt.plot(t0(i).T, t0(i).mean('DeepBlue'))\n",
    "plt.show()"
   ]
  }
 ],
 "metadata": {
  "kernelspec": {
   "display_name": "oyimg",
   "language": "python",
   "name": "oyimg"
  },
  "language_info": {
   "codemirror_mode": {
    "name": "ipython",
    "version": 3
   },
   "file_extension": ".py",
   "mimetype": "text/x-python",
   "name": "python",
   "nbconvert_exporter": "python",
   "pygments_lexer": "ipython3",
   "version": "3.9.6"
  }
 },
 "nbformat": 4,
 "nbformat_minor": 5
}
