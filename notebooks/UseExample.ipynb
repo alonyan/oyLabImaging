{
 "cells": [
  {
   "cell_type": "code",
   "execution_count": 1,
   "id": "7a6b227a",
   "metadata": {},
   "outputs": [],
   "source": [
    "%load_ext autoreload\n",
    "%autoreload 2\n",
    "%gui qt\n",
    "%matplotlib qt5\n",
    "\n",
    "import sys\n",
    "import os\n",
    "\n",
    "import numpy as np\n",
    "import matplotlib.pyplot as plt"
   ]
  },
  {
   "cell_type": "markdown",
   "id": "df1915fe",
   "metadata": {},
   "source": [
    "### Load Metadata module"
   ]
  },
  {
   "cell_type": "code",
   "execution_count": 2,
   "id": "10b56f59",
   "metadata": {},
   "outputs": [],
   "source": [
    "from oyLabImaging import Metadata"
   ]
  },
  {
   "cell_type": "markdown",
   "id": "ea451fad",
   "metadata": {},
   "source": [
    "### Define path"
   ]
  },
  {
   "cell_type": "code",
   "execution_count": 3,
   "id": "420e4a85",
   "metadata": {},
   "outputs": [
    {
     "name": "stdout",
     "output_type": "stream",
     "text": [
      "loaded ND2 metadata from/bigstore/Microscopy Core/Jen/3T3_mRubyloss_HSV_20210818/metadata.pickle\n"
     ]
    }
   ],
   "source": [
    "fpath = \"/bigstore/TestSpin/08132021_TrackingCells_mRubyLoss/_1/\"\n",
    "#fpath = \"/bigstore/Microscopy Core/Jen/A549Inf_Drugs.nd2\"\n",
    "#fpath=\"/bigstore/Microscopy Core/Jen/DIC_timelapseDeathComparison_08032021.pickle\"\n",
    "#fpath ='/bigstore/TestSpin/08132021_TrackingCells_mRubyLoss/_1/metadata.pickle'\n",
    "fpath = '/bigstore/Microscopy Core/Jen/3T3_mRubyloss_HSV_20210818/'\n",
    "#fpath = '/bigstore/Microscopy Core/Jen'\n",
    "#fpath = '/bigstore/Microscopy Core/Jen/3T3_mRubyloss_HSV_20210818/MRubyVirusDeath_08172021.nd2'\n",
    "MD = Metadata(fpath)"
   ]
  },
  {
   "cell_type": "markdown",
   "id": "85944924",
   "metadata": {},
   "source": [
    "### You can read images by attributes"
   ]
  },
  {
   "cell_type": "code",
   "execution_count": 4,
   "id": "925d2f8f",
   "metadata": {},
   "outputs": [
    {
     "name": "stdout",
     "output_type": "stream",
     "text": [
      "opening index 8206\n",
      "Loaded 1 group of images.\n"
     ]
    }
   ],
   "source": [
    "stk = MD.stkread(Channel = MD.channels[1], Position=MD.posnames[1], Zindex=[0],register=True)"
   ]
  },
  {
   "cell_type": "code",
   "execution_count": 5,
   "id": "f8d685e6",
   "metadata": {},
   "outputs": [
    {
     "name": "stdout",
     "output_type": "stream",
     "text": [
      "opening file img_channel000_position002_time000000059_z000.tif\n",
      "Loaded Pos2 group of images.\n",
      "\n",
      "calculating drift correction for position Pos2\n",
      "calculated drift correction for position Pos2\n",
      "opening file img_channel000_position000_time000000059_z000.tif\n",
      "Loaded Pos0 group of images.\n",
      "\n",
      "calculating drift correction for position Pos0\n",
      "calculated drift correction for position Pos0\n",
      "opening file img_channel000_position001_time000000059_z000.tif\n",
      "Loaded Pos1 group of images.\n",
      "\n",
      "calculating drift correction for position Pos1\n",
      "calculated drift correction for position Pos1\n"
     ]
    }
   ],
   "source": [
    "MD.CalculateDriftCorrection(Channel='DeepBlue')"
   ]
  },
  {
   "cell_type": "markdown",
   "id": "00951820",
   "metadata": {},
   "source": [
    "### use napari to see images"
   ]
  },
  {
   "cell_type": "code",
   "execution_count": 5,
   "id": "82528834",
   "metadata": {},
   "outputs": [
    {
     "name": "stdout",
     "output_type": "stream",
     "text": [
      "2021-09-09 15:59:52,960 [INFO] WRITING LOG OUTPUT TO /home/alo649/.cellpose/run.log\n"
     ]
    }
   ],
   "source": [
    "import napari\n",
    "viewer = napari.Viewer()"
   ]
  },
  {
   "cell_type": "code",
   "execution_count": 6,
   "id": "b93dd5db",
   "metadata": {},
   "outputs": [
    {
     "data": {
      "text/plain": [
       "<Image layer 'stk' at 0x7f79282f7760>"
      ]
     },
     "execution_count": 6,
     "metadata": {},
     "output_type": "execute_result"
    }
   ],
   "source": [
    "viewer.add_image(stk)"
   ]
  },
  {
   "cell_type": "markdown",
   "id": "39fc5fe9",
   "metadata": {},
   "source": [
    "### If you want to segment cells, you can use a function called test_segmentation_params to see how the algorythm performs with different parameters. Any parameter value that's changed from the default should be manually added to the call for segmentation of the full data below."
   ]
  },
  {
   "cell_type": "code",
   "execution_count": 9,
   "id": "6ebf2853",
   "metadata": {},
   "outputs": [
    {
     "name": "stdout",
     "output_type": "stream",
     "text": [
      "['watershed', 'cellpose_nuclei', 'cellpose_cyto', 'cellpose_nuc_cyto']\n",
      "opening file img_channel000_position000_time000000010_z000.tif\n",
      "Loaded Pos0 group of images.\n",
      "\n",
      "using _segment_nuclei_cellpose\n"
     ]
    },
    {
     "data": {
      "application/vnd.jupyter.widget-view+json": {
       "model_id": "2055d552687740fc85a25191c8e50dfe",
       "version_major": 2,
       "version_minor": 0
      },
      "text/plain": [
       "HBox(children=(VBox(children=(Text(value='50', description='diameter'), Text(value='0.5', description='scale')…"
      ]
     },
     "metadata": {},
     "output_type": "display_data"
    },
    {
     "name": "stdout",
     "output_type": "stream",
     "text": [
      "calculating with new parameters\n",
      "Done!\n"
     ]
    }
   ],
   "source": [
    "from oyLabImaging.Processing.improcutils import segmentation\n",
    "print(segmentation.segmentation_types()) \n",
    "img = MD.stkread(Position=MD.posnames[1],Channel=MD.channels[0], frame=10)\n",
    "segmentation.test_segmentation_params(img=img, segment_type='cellpose_nuclei', cellprob_threshold=0.0)#cellpose_nuclei"
   ]
  },
  {
   "cell_type": "markdown",
   "id": "5f34958a",
   "metadata": {},
   "source": [
    "### make empty results object"
   ]
  },
  {
   "cell_type": "code",
   "execution_count": 5,
   "id": "99f13b35",
   "metadata": {},
   "outputs": [
    {
     "name": "stdout",
     "output_type": "stream",
     "text": [
      "\n",
      "loaded results from pickle file\n"
     ]
    }
   ],
   "source": [
    "from oyLabImaging.Processing import results\n",
    "R = results(MD=MD)"
   ]
  },
  {
   "cell_type": "code",
   "execution_count": 6,
   "id": "8d752f4b",
   "metadata": {},
   "outputs": [
    {
     "name": "stdout",
     "output_type": "stream",
     "text": [
      "Results object for path to experiment in path: \n",
      " /bigstore/Microscopy Core/Jen/3T3_mRubyloss_HSV_20210818/\n",
      "\n",
      "Available channels are : DIC N2, Widefield Green, Widefield Red, Widefield Dual Cyan, Widefield Blue.\n",
      "\n",
      "Positions already segmented are : 0\n",
      "\n",
      "Available positions : 0, 1, 2, 3, 4, 5.\n",
      "\n",
      "Available frames : 92.\n"
     ]
    }
   ],
   "source": [
    "R()"
   ]
  },
  {
   "cell_type": "code",
   "execution_count": 7,
   "id": "38a0b2e8",
   "metadata": {},
   "outputs": [
    {
     "name": "stdout",
     "output_type": "stream",
     "text": [
      "\n",
      "Processing position 0\n"
     ]
    },
    {
     "name": "stderr",
     "output_type": "stream",
     "text": [
      "100%|███████████████████████████████████████████| 92/92 [00:42<00:00,  2.15it/s]\n"
     ]
    },
    {
     "name": "stdout",
     "output_type": "stream",
     "text": [
      "\n",
      "Finished loading and segmenting position 0\n",
      "saved results\n"
     ]
    }
   ],
   "source": [
    "R.setPosLbls(MD=MD,Position=R.PosNames[0],NucChannel=R.channels[0],segment_type='cellpose_nuclei', threads=6, diameter=50)"
   ]
  },
  {
   "cell_type": "code",
   "execution_count": 11,
   "id": "ad927d7e",
   "metadata": {},
   "outputs": [
    {
     "data": {
      "text/plain": [
       "array(['DeepBlue', 'Green', 'Red'], dtype=object)"
      ]
     },
     "execution_count": 11,
     "metadata": {},
     "output_type": "execute_result"
    }
   ],
   "source": [
    "MD.channels"
   ]
  },
  {
   "cell_type": "code",
   "execution_count": 8,
   "id": "04acff1d",
   "metadata": {},
   "outputs": [
    {
     "name": "stdout",
     "output_type": "stream",
     "text": [
      "linking frame 58\n",
      "Finished connecting tracks\n",
      "saved results\n"
     ]
    }
   ],
   "source": [
    "R.calculate_tracks(pos=R.PosNames[0], NucChannel=MD.channels[0], search_radius=40, maxStep=30)"
   ]
  },
  {
   "cell_type": "code",
   "execution_count": 9,
   "id": "94ad5aa0",
   "metadata": {},
   "outputs": [
    {
     "name": "stdout",
     "output_type": "stream",
     "text": [
      "showing channel DeepBlue\n",
      "2021-09-09 15:48:47,663 [INFO] WRITING LOG OUTPUT TO /home/alo649/.cellpose/run.log\n"
     ]
    }
   ],
   "source": [
    "R.show_points(R.PosNames[0])"
   ]
  },
  {
   "cell_type": "code",
   "execution_count": 20,
   "id": "891c240c",
   "metadata": {},
   "outputs": [
    {
     "name": "stdout",
     "output_type": "stream",
     "text": [
      "showing channel DeepBlue\n"
     ]
    }
   ],
   "source": [
    "R.show_tracks(R.PosNames[0], J=np.arange(50))"
   ]
  },
  {
   "cell_type": "code",
   "execution_count": 35,
   "id": "cbd3bf3e",
   "metadata": {},
   "outputs": [],
   "source": [
    "t0 = R.tracks(0)"
   ]
  },
  {
   "cell_type": "code",
   "execution_count": 37,
   "id": "7de210dc",
   "metadata": {},
   "outputs": [],
   "source": [
    "i=20\n",
    "plt.plot(t0(i).T, t0(i).mean(MD.channels[4]))\n",
    "plt.show()"
   ]
  },
  {
   "cell_type": "code",
   "execution_count": null,
   "id": "976f8abc",
   "metadata": {},
   "outputs": [],
   "source": []
  }
 ],
 "metadata": {
  "kernelspec": {
   "display_name": "oyimg",
   "language": "python",
   "name": "oyimg"
  },
  "language_info": {
   "codemirror_mode": {
    "name": "ipython",
    "version": 3
   },
   "file_extension": ".py",
   "mimetype": "text/x-python",
   "name": "python",
   "nbconvert_exporter": "python",
   "pygments_lexer": "ipython3",
   "version": "3.9.6"
  }
 },
 "nbformat": 4,
 "nbformat_minor": 5
}
