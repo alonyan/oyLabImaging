{
 "cells": [
  {
   "cell_type": "code",
   "execution_count": 1,
   "id": "d0d4a117",
   "metadata": {},
   "outputs": [],
   "source": [
    "%load_ext autoreload\n",
    "%autoreload 2\n",
    "%gui qt\n",
    "%matplotlib qt5\n",
    "\n",
    "import sys\n",
    "import os\n",
    "\n",
    "import numpy as np\n",
    "import matplotlib.pyplot as plt"
   ]
  },
  {
   "cell_type": "markdown",
   "id": "73941138",
   "metadata": {},
   "source": [
    "### Load Metadata module"
   ]
  },
  {
   "cell_type": "code",
   "execution_count": 2,
   "id": "f9d1635f",
   "metadata": {},
   "outputs": [],
   "source": [
    "from oyLabImaging import Metadata"
   ]
  },
  {
   "cell_type": "markdown",
   "id": "18e447e1",
   "metadata": {},
   "source": [
    "### Define path"
   ]
  },
  {
   "cell_type": "code",
   "execution_count": 3,
   "id": "90fac075",
   "metadata": {},
   "outputs": [
    {
     "name": "stdout",
     "output_type": "stream",
     "text": [
      "loaded MM metadata from/bigstore/TestSpin/08132021_TrackingCells_mRubyLoss/_1/Pos2/metadata.txt\n",
      "loaded MM metadata from/bigstore/TestSpin/08132021_TrackingCells_mRubyLoss/_1/Pos0/metadata.txt\n",
      "loaded MM metadata from/bigstore/TestSpin/08132021_TrackingCells_mRubyLoss/_1/Pos1/metadata.txt\n"
     ]
    }
   ],
   "source": [
    "fpath = \"/bigstore/TestSpin/08132021_TrackingCells_mRubyLoss/_1/\"\n",
    "#fpath = \"/bigstore/Microscopy Core/Jen/A549Inf_Drugs.nd2\"\n",
    "#fpath=\"/bigstore/Microscopy Core/Jen/DIC_timelapseDeathComparison_08032021.pickle\"\n",
    "#fpath ='/bigstore/TestSpin/08132021_TrackingCells_mRubyLoss/_1/metadata.pickle'\n",
    "#fpath = '/bigstore/Microscopy Core/Jen/3T3_mRubyloss_HSV_20210818/'\n",
    "#fpath = '/bigstore/Microscopy Core/Jen'\n",
    "#fpath = '/bigstore/Microscopy Core/Jen/3T3_mRubyloss_HSV_20210818/MRubyVirusDeath_08172021.nd2'\n",
    "MD = Metadata(fpath)"
   ]
  },
  {
   "cell_type": "markdown",
   "id": "47e52f40",
   "metadata": {},
   "source": [
    "### You can read images by attributes"
   ]
  },
  {
   "cell_type": "code",
   "execution_count": 4,
   "id": "cdc78874",
   "metadata": {},
   "outputs": [
    {
     "name": "stdout",
     "output_type": "stream",
     "text": [
      "opening file img_channel000_position002_time000000059_z000.tif\n",
      "Loaded Pos2 group of images.\n"
     ]
    }
   ],
   "source": [
    "stk = MD.stkread(Channel = MD.channels[0], Position=MD.posnames[0])"
   ]
  },
  {
   "cell_type": "markdown",
   "id": "c9e562af",
   "metadata": {},
   "source": [
    "### use napari to see images"
   ]
  },
  {
   "cell_type": "code",
   "execution_count": 5,
   "id": "afd27871",
   "metadata": {},
   "outputs": [
    {
     "name": "stdout",
     "output_type": "stream",
     "text": [
      "2021-09-08 14:50:20,695 [INFO] WRITING LOG OUTPUT TO /home/alo649/.cellpose/run.log\n"
     ]
    }
   ],
   "source": [
    "import napari\n",
    "viewer = napari.Viewer()"
   ]
  },
  {
   "cell_type": "code",
   "execution_count": 6,
   "id": "53213429",
   "metadata": {},
   "outputs": [
    {
     "data": {
      "text/plain": [
       "<Image layer 'stk' at 0x7fe288d70d30>"
      ]
     },
     "execution_count": 6,
     "metadata": {},
     "output_type": "execute_result"
    }
   ],
   "source": [
    "viewer.add_image(stk)"
   ]
  },
  {
   "cell_type": "markdown",
   "id": "bc54e0d6",
   "metadata": {},
   "source": [
    "### If you want to segment cells, you can use a function called test_segmentation_params to see how the algorythm performs with different parameters. Any parameter value that's changed from the default should be manually added to the call for segmentation of the full data below."
   ]
  },
  {
   "cell_type": "code",
   "execution_count": 8,
   "id": "c6c69822",
   "metadata": {},
   "outputs": [
    {
     "name": "stdout",
     "output_type": "stream",
     "text": [
      "<function segmentation.segmentation_types at 0x7fe7e07713a0>\n",
      "opening file img_channel000_position000_time000000050_z000.tif\n",
      "Loaded Pos0 group of images.\n",
      "\n",
      "using _segment_nuclei_cellpose\n"
     ]
    },
    {
     "data": {
      "application/vnd.jupyter.widget-view+json": {
       "model_id": "e01795d295be4257986fa6b8a2cfe940",
       "version_major": 2,
       "version_minor": 0
      },
      "text/plain": [
       "HBox(children=(VBox(children=(Text(value='50', description='diameter'), Text(value='0.5', description='scale')…"
      ]
     },
     "metadata": {},
     "output_type": "display_data"
    },
    {
     "name": "stdout",
     "output_type": "stream",
     "text": [
      "calculating with new parameters\n",
      "Done!\n",
      "calculating with new parameters\n",
      "Done!\n",
      "calculating with new parameters\n",
      "Done!\n",
      "calculating with new parameters\n",
      "Done!\n",
      "calculating with new parameters\n",
      "Done!\n",
      "calculating with new parameters\n",
      "Done!\n"
     ]
    }
   ],
   "source": [
    "from oyLabImaging.Processing.improcutils import segmentation\n",
    "print(segmentation.segmentation_types) \n",
    "img = MD.stkread(Position=MD.posnames[1],Channel=MD.channels[0], frame=50)\n",
    "segmentation.test_segmentation_params(img=img, segment_type='cellpose_nuclei', cellprob_threshold=0.0)#cellpose_nuclei"
   ]
  },
  {
   "cell_type": "markdown",
   "id": "abdb82a8",
   "metadata": {},
   "source": [
    "### make empty results object"
   ]
  },
  {
   "cell_type": "code",
   "execution_count": 5,
   "id": "0ee5c4a3",
   "metadata": {},
   "outputs": [
    {
     "name": "stdout",
     "output_type": "stream",
     "text": [
      "\n",
      "loaded results from pickle file\n"
     ]
    }
   ],
   "source": [
    "from oyLabImaging.Processing import results\n",
    "R = results(MD=MD)"
   ]
  },
  {
   "cell_type": "code",
   "execution_count": 6,
   "id": "bc82c81f",
   "metadata": {},
   "outputs": [
    {
     "name": "stdout",
     "output_type": "stream",
     "text": [
      "Results object for path to experiment in path: \n",
      " /bigstore/TestSpin/08132021_TrackingCells_mRubyLoss/_1/\n",
      "\n",
      "Available channels are : DeepBlue, Green, Red.\n",
      "\n",
      "Positions already segmented are : Pos0\n",
      "\n",
      "Available positions : Pos2, Pos0, Pos1.\n",
      "\n",
      "Available frames : 60.\n"
     ]
    }
   ],
   "source": [
    "R()"
   ]
  },
  {
   "cell_type": "code",
   "execution_count": 12,
   "id": "6a2ef835",
   "metadata": {},
   "outputs": [
    {
     "name": "stdout",
     "output_type": "stream",
     "text": [
      "\n",
      "Processing position Pos1\n"
     ]
    },
    {
     "name": "stderr",
     "output_type": "stream",
     "text": [
      "100%|███████████████████████████████████████████| 60/60 [01:13<00:00,  1.22s/it]\n"
     ]
    },
    {
     "name": "stdout",
     "output_type": "stream",
     "text": [
      "\n",
      "Finished loading and segmenting position Pos1\n",
      "saved results\n"
     ]
    }
   ],
   "source": [
    "R.setPosLbls(MD=MD,Position='Pos1',NucChannel='DeepBlue',segment_type='cellpose_nuclei', threads=6, diameter=30)"
   ]
  },
  {
   "cell_type": "code",
   "execution_count": 13,
   "id": "62e0fed9",
   "metadata": {},
   "outputs": [
    {
     "name": "stdout",
     "output_type": "stream",
     "text": [
      "linking frame 58\n",
      "Finished connecting tracks\n",
      "saved results\n"
     ]
    }
   ],
   "source": [
    "R.calculate_tracks(pos='Pos1', NucChannel='DeepBlue', search_radius=25, maxStep=30)"
   ]
  },
  {
   "cell_type": "code",
   "execution_count": 11,
   "id": "70117588",
   "metadata": {},
   "outputs": [
    {
     "name": "stderr",
     "output_type": "stream",
     "text": [
      "/home/alo649/Repos/oyLabImaging/oyLabImaging/Metadata/metadata.py:576: UserWarning: No drift correction found for experiment\n",
      "  warnings.warn(\"No drift correction found for experiment\")\n"
     ]
    }
   ],
   "source": [
    "R.show_points('Pos1')"
   ]
  },
  {
   "cell_type": "code",
   "execution_count": 15,
   "id": "317dfd24",
   "metadata": {},
   "outputs": [
    {
     "name": "stderr",
     "output_type": "stream",
     "text": [
      "/home/alo649/Repos/oyLabImaging/oyLabImaging/Metadata/metadata.py:576: UserWarning: No drift correction found for experiment\n",
      "  warnings.warn(\"No drift correction found for experiment\")\n"
     ]
    }
   ],
   "source": [
    "R.show_tracks('Pos1')"
   ]
  },
  {
   "cell_type": "code",
   "execution_count": null,
   "id": "056eede9",
   "metadata": {},
   "outputs": [],
   "source": [
    "t0 = R.tracks('Pos0')"
   ]
  },
  {
   "cell_type": "code",
   "execution_count": null,
   "id": "39ce4899",
   "metadata": {},
   "outputs": [],
   "source": [
    "i=20\n",
    "plt.plot(t0(i).T, t0(i).mean('DeepBlue'))\n",
    "plt.show()"
   ]
  }
 ],
 "metadata": {
  "kernelspec": {
   "display_name": "oyimg",
   "language": "python",
   "name": "oyimg"
  },
  "language_info": {
   "codemirror_mode": {
    "name": "ipython",
    "version": 3
   },
   "file_extension": ".py",
   "mimetype": "text/x-python",
   "name": "python",
   "nbconvert_exporter": "python",
   "pygments_lexer": "ipython3",
   "version": "3.9.6"
  }
 },
 "nbformat": 4,
 "nbformat_minor": 5
}
