{
 "cells": [
  {
   "cell_type": "code",
   "execution_count": 1,
   "id": "df00a9ae",
   "metadata": {},
   "outputs": [],
   "source": [
    "%load_ext autoreload\n",
    "%autoreload 2\n",
    "%gui qt\n",
    "%matplotlib qt5\n",
    "\n",
    "import sys\n",
    "import os\n",
    "\n",
    "import numpy as np\n",
    "import matplotlib.pyplot as plt"
   ]
  },
  {
   "cell_type": "markdown",
   "id": "a783d8ef",
   "metadata": {},
   "source": [
    "### Load Metadata module"
   ]
  },
  {
   "cell_type": "code",
   "execution_count": 2,
   "id": "a3b1e303",
   "metadata": {},
   "outputs": [],
   "source": [
    "from oyLabImaging import Metadata"
   ]
  },
  {
   "cell_type": "markdown",
   "id": "b41dff5e",
   "metadata": {},
   "source": [
    "### Define path"
   ]
  },
  {
   "cell_type": "code",
   "execution_count": 3,
   "id": "984d3a77",
   "metadata": {},
   "outputs": [
    {
     "name": "stdout",
     "output_type": "stream",
     "text": [
      "loaded MM metadata from/bigstore/TestSpin/08132021_TrackingCells_mRubyLoss/_1/metadata.pickle\n"
     ]
    }
   ],
   "source": [
    "fpath = \"/bigstore/TestSpin/08132021_TrackingCells_mRubyLoss/_1/\"\n",
    "#fpath = \"/bigstore/Microscopy Core/Jen/A549Inf_Drugs.nd2\"\n",
    "#fpath=\"/bigstore/Microscopy Core/Jen/DIC_timelapseDeathComparison_08032021.pickle\"\n",
    "#fpath ='/bigstore/TestSpin/08132021_TrackingCells_mRubyLoss/_1/metadata.pickle'\n",
    "#fpath = '/bigstore/Microscopy Core/Jen/3T3_mRubyloss_HSV_20210818/'\n",
    "#fpath = '/bigstore/Microscopy Core/Jen'\n",
    "#fpath = '/bigstore/Microscopy Core/Jen/3T3_mRubyloss_HSV_20210818/MRubyVirusDeath_08172021.nd2'\n",
    "MD = Metadata(fpath)"
   ]
  },
  {
   "cell_type": "markdown",
   "id": "bfe67bcc",
   "metadata": {},
   "source": [
    "### You can read images by attributes"
   ]
  },
  {
   "cell_type": "code",
   "execution_count": 29,
   "id": "2522588c",
   "metadata": {},
   "outputs": [
    {
     "name": "stdout",
     "output_type": "stream",
     "text": [
      "opening file img_channel000_position001_time000000059_z000.tif\n",
      "Loaded Pos1 group of images.\n"
     ]
    }
   ],
   "source": [
    "stk = MD.stkread(Channel = MD.channels[0], Position=MD.posnames[2],register=True)"
   ]
  },
  {
   "cell_type": "code",
   "execution_count": 25,
   "id": "59e47936",
   "metadata": {},
   "outputs": [
    {
     "name": "stdout",
     "output_type": "stream",
     "text": [
      "opening file img_channel000_position002_time000000059_z000.tif\n",
      "Loaded Pos2 group of images.\n",
      "\n",
      "calculating drift correction for position Pos2\n",
      "calculated drift correction for position Pos2\n"
     ]
    }
   ],
   "source": [
    "MD.CalculateDriftCorrection(Position='Pos2')"
   ]
  },
  {
   "cell_type": "markdown",
   "id": "21d6059c",
   "metadata": {},
   "source": [
    "### use napari to see images"
   ]
  },
  {
   "cell_type": "code",
   "execution_count": 5,
   "id": "8d0337e1",
   "metadata": {},
   "outputs": [
    {
     "name": "stdout",
     "output_type": "stream",
     "text": [
      "2021-09-08 14:50:20,695 [INFO] WRITING LOG OUTPUT TO /home/alo649/.cellpose/run.log\n"
     ]
    }
   ],
   "source": [
    "import napari\n",
    "viewer = napari.Viewer()"
   ]
  },
  {
   "cell_type": "code",
   "execution_count": 6,
   "id": "f9af5e33",
   "metadata": {},
   "outputs": [
    {
     "data": {
      "text/plain": [
       "<Image layer 'stk' at 0x7fe288d70d30>"
      ]
     },
     "execution_count": 6,
     "metadata": {},
     "output_type": "execute_result"
    }
   ],
   "source": [
    "viewer.add_image(stk)"
   ]
  },
  {
   "cell_type": "markdown",
   "id": "4ec1a4a7",
   "metadata": {},
   "source": [
    "### If you want to segment cells, you can use a function called test_segmentation_params to see how the algorythm performs with different parameters. Any parameter value that's changed from the default should be manually added to the call for segmentation of the full data below."
   ]
  },
  {
   "cell_type": "code",
   "execution_count": 29,
   "id": "44e15de9",
   "metadata": {},
   "outputs": [
    {
     "name": "stdout",
     "output_type": "stream",
     "text": [
      "['watershed', 'cellpose_nuclei', 'cellpose_cyto', 'cellpose_nuc_cyto']\n",
      "opening file img_channel000_position000_time000000010_z000.tif\n",
      "Loaded Pos0 group of images.\n",
      "\n",
      "using _segment_nuclei_cellpose\n"
     ]
    },
    {
     "data": {
      "application/vnd.jupyter.widget-view+json": {
       "model_id": "bca18aafcd3e4af4a83c95269dc2c205",
       "version_major": 2,
       "version_minor": 0
      },
      "text/plain": [
       "HBox(children=(VBox(children=(Text(value='50', description='diameter'), Text(value='0.5', description='scale')…"
      ]
     },
     "metadata": {},
     "output_type": "display_data"
    },
    {
     "name": "stdout",
     "output_type": "stream",
     "text": [
      "calculating with new parameters\n",
      "Done!\n",
      "calculating with new parameters\n",
      "Done!\n",
      "calculating with new parameters\n",
      "Done!\n",
      "calculating with new parameters\n",
      "Done!\n"
     ]
    }
   ],
   "source": [
    "from oyLabImaging.Processing.improcutils import segmentation\n",
    "print(segmentation.segmentation_types()) \n",
    "img = MD.stkread(Position=MD.posnames[1],Channel=MD.channels[0], frame=10)\n",
    "segmentation.test_segmentation_params(img=img, segment_type='cellpose_nuclei', cellprob_threshold=0.0)#cellpose_nuclei"
   ]
  },
  {
   "cell_type": "markdown",
   "id": "6dd6f05a",
   "metadata": {},
   "source": [
    "### make empty results object"
   ]
  },
  {
   "cell_type": "code",
   "execution_count": 4,
   "id": "68ace1e3",
   "metadata": {},
   "outputs": [
    {
     "name": "stdout",
     "output_type": "stream",
     "text": [
      "\n",
      "loaded results from pickle file\n"
     ]
    }
   ],
   "source": [
    "from oyLabImaging.Processing import results\n",
    "R = results(MD=MD)"
   ]
  },
  {
   "cell_type": "code",
   "execution_count": 5,
   "id": "93f2a79e",
   "metadata": {},
   "outputs": [
    {
     "name": "stdout",
     "output_type": "stream",
     "text": [
      "Results object for path to experiment in path: \n",
      " /bigstore/TestSpin/08132021_TrackingCells_mRubyLoss/_1/\n",
      "\n",
      "Available channels are : DeepBlue, Green, Red.\n",
      "\n",
      "Positions already segmented are : Pos0, Pos1\n",
      "\n",
      "Available positions : Pos2, Pos0, Pos1.\n",
      "\n",
      "Available frames : 60.\n"
     ]
    }
   ],
   "source": [
    "R()"
   ]
  },
  {
   "cell_type": "code",
   "execution_count": 11,
   "id": "dbc5271b",
   "metadata": {},
   "outputs": [
    {
     "name": "stdout",
     "output_type": "stream",
     "text": [
      "\n",
      "Processing position Pos1\n"
     ]
    },
    {
     "name": "stderr",
     "output_type": "stream",
     "text": [
      "100%|███████████████████████████████████████████| 60/60 [00:33<00:00,  1.81it/s]\n"
     ]
    },
    {
     "name": "stdout",
     "output_type": "stream",
     "text": [
      "\n",
      "Finished loading and segmenting position Pos1\n",
      "saved results\n"
     ]
    }
   ],
   "source": [
    "R.setPosLbls(MD=MD,Position='Pos1',NucChannel='DeepBlue',segment_type='cellpose_nuclei', threads=6, diameter=70)"
   ]
  },
  {
   "cell_type": "code",
   "execution_count": 9,
   "id": "26bb859f",
   "metadata": {},
   "outputs": [
    {
     "data": {
      "text/plain": [
       "{'diameter': 70, 'scale': 0.5, 'GPU': True}"
      ]
     },
     "execution_count": 9,
     "metadata": {},
     "output_type": "execute_result"
    }
   ],
   "source": [
    "R.PosLbls['Pos1'].framelabels[0]._seg_params"
   ]
  },
  {
   "cell_type": "code",
   "execution_count": 7,
   "id": "85f1c486",
   "metadata": {},
   "outputs": [
    {
     "name": "stdout",
     "output_type": "stream",
     "text": [
      "linking frame 58\n",
      "Finished connecting tracks\n",
      "saved results\n"
     ]
    }
   ],
   "source": [
    "R.calculate_tracks(pos='Pos1', NucChannel='DeepBlue', search_radius=25, maxStep=30)"
   ]
  },
  {
   "cell_type": "code",
   "execution_count": 32,
   "id": "201dee61",
   "metadata": {},
   "outputs": [
    {
     "name": "stdout",
     "output_type": "stream",
     "text": [
      "2021-09-08 16:16:27,751 [INFO] WRITING LOG OUTPUT TO /home/alo649/.cellpose/run.log\n"
     ]
    }
   ],
   "source": [
    "R.show_points('Pos1')"
   ]
  },
  {
   "cell_type": "code",
   "execution_count": 33,
   "id": "c9ad3f86",
   "metadata": {},
   "outputs": [],
   "source": [
    "R.show_tracks('Pos1')"
   ]
  },
  {
   "cell_type": "code",
   "execution_count": null,
   "id": "bcc7ba66",
   "metadata": {},
   "outputs": [],
   "source": [
    "t0 = R.tracks('Pos0')"
   ]
  },
  {
   "cell_type": "code",
   "execution_count": null,
   "id": "0965f742",
   "metadata": {},
   "outputs": [],
   "source": [
    "i=20\n",
    "plt.plot(t0(i).T, t0(i).mean('DeepBlue'))\n",
    "plt.show()"
   ]
  }
 ],
 "metadata": {
  "kernelspec": {
   "display_name": "oyimg",
   "language": "python",
   "name": "oyimg"
  },
  "language_info": {
   "codemirror_mode": {
    "name": "ipython",
    "version": 3
   },
   "file_extension": ".py",
   "mimetype": "text/x-python",
   "name": "python",
   "nbconvert_exporter": "python",
   "pygments_lexer": "ipython3",
   "version": "3.9.6"
  }
 },
 "nbformat": 4,
 "nbformat_minor": 5
}
